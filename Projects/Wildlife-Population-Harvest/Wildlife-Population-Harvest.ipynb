{
 "cells": [
  {
   "cell_type": "markdown",
   "metadata": {},
   "source": [
    "File: Wildlife-Population-Harvest.ipynb  \n",
    "Name: Corinne Medeiros  \n",
    "Date: 11/16/19  \n",
    "Usage: Program reads data from wildlife population and harvest data for Forest Service 2010 RPA assessment. Endangered and threatened status across species is analyzed through visualizations, analytical distribution models, hypothesis tests, and correlation tests."
   ]
  },
  {
   "cell_type": "markdown",
   "metadata": {},
   "source": [
    "# Wildlife Population and Harvest Data\n",
    "\n",
    "This dataset comes from the U.S. Department of Agriculture’s website, provided by the Forest Service Research & Development (FS R&D) on wildlife population and harvest data. It includes data captured from 1955 until 2010. The data extend across a range of assessment areas, including the Pacific Coast, Rocky Mountain, North, and South. For this project I'm focusing on groups of endangered and threatened species including mammals, birds, reptiles, and amphibians, with some initial exploration of harvest data by region.\n",
    "\n",
    "**Data Source:**\n",
    "\n",
    "Wildlife population and harvest data for Forest Service 2010 RPA Assessment <https://doi.org/10.2737/RDS-2014-0009>\n",
    "\n",
    "**Hypothesis:**\n",
    "\n",
    "My hypothesis explores the relationship between time and endangered or threatened status, as well as relationships between specific groups of species and all species together."
   ]
  },
  {
   "cell_type": "code",
   "execution_count": 1,
   "metadata": {},
   "outputs": [],
   "source": [
    "from __future__ import print_function, division\n",
    "\n",
    "import thinkstats2\n",
    "\n",
    "import thinkplot\n",
    "\n",
    "import matplotlib.pyplot as plt\n",
    "import matplotlib.dates as mdates\n",
    "\n",
    "import pandas as pd\n",
    "\n",
    "from pandas.plotting import register_matplotlib_converters\n",
    "register_matplotlib_converters()\n",
    "\n",
    "import scipy.stats\n",
    "\n",
    "import numpy as np"
   ]
  },
  {
   "cell_type": "markdown",
   "metadata": {},
   "source": [
    "## All Endangered or Threatened Species\n",
    "\n",
    "Figure 22 from this data contains the cumulative number of species listed as threatened or endangered from 1 Jul 1976 through 27 October 2010 for all taxa, plants, animals, vertebrate groups (amphibians, birds, fish, mammals, reptiles), and invertebrate groups (arachnids, crustaceans, insects, and molluscs). \n",
    "\n",
    "I will be focusing on animals from the vertebrate groups."
   ]
  },
  {
   "cell_type": "markdown",
   "metadata": {},
   "source": [
    "### Importing Data"
   ]
  },
  {
   "cell_type": "code",
   "execution_count": 2,
   "metadata": {},
   "outputs": [],
   "source": [
    "# Importing csv file - all species status, converting 'date' column to datetime, setting column as index\n",
    "endangered_df = pd.read_csv(\"RDS-2014-0009/Data/Figure_22.csv\",\n",
    "                                    parse_dates=['date'],\n",
    "                                    index_col=['date'])"
   ]
  },
  {
   "cell_type": "code",
   "execution_count": 3,
   "metadata": {},
   "outputs": [
    {
     "data": {
      "text/html": [
       "<div>\n",
       "<style scoped>\n",
       "    .dataframe tbody tr th:only-of-type {\n",
       "        vertical-align: middle;\n",
       "    }\n",
       "\n",
       "    .dataframe tbody tr th {\n",
       "        vertical-align: top;\n",
       "    }\n",
       "\n",
       "    .dataframe thead th {\n",
       "        text-align: right;\n",
       "    }\n",
       "</style>\n",
       "<table border=\"1\" class=\"dataframe\">\n",
       "  <thead>\n",
       "    <tr style=\"text-align: right;\">\n",
       "      <th></th>\n",
       "      <th>all_m</th>\n",
       "      <th>all_b</th>\n",
       "      <th>all_r</th>\n",
       "      <th>all_am</th>\n",
       "      <th>all_f</th>\n",
       "      <th>all_s</th>\n",
       "      <th>all_cl</th>\n",
       "      <th>all_cr</th>\n",
       "      <th>all_i</th>\n",
       "      <th>all_ar</th>\n",
       "      <th>...</th>\n",
       "      <th>end_cr</th>\n",
       "      <th>thrt_cr</th>\n",
       "      <th>end_i</th>\n",
       "      <th>thrt_i</th>\n",
       "      <th>end_ar</th>\n",
       "      <th>thrt_ar</th>\n",
       "      <th>end_p</th>\n",
       "      <th>thrt_p</th>\n",
       "      <th>end_all</th>\n",
       "      <th>thrt_all</th>\n",
       "    </tr>\n",
       "    <tr>\n",
       "      <th>date</th>\n",
       "      <th></th>\n",
       "      <th></th>\n",
       "      <th></th>\n",
       "      <th></th>\n",
       "      <th></th>\n",
       "      <th></th>\n",
       "      <th></th>\n",
       "      <th></th>\n",
       "      <th></th>\n",
       "      <th></th>\n",
       "      <th></th>\n",
       "      <th></th>\n",
       "      <th></th>\n",
       "      <th></th>\n",
       "      <th></th>\n",
       "      <th></th>\n",
       "      <th></th>\n",
       "      <th></th>\n",
       "      <th></th>\n",
       "      <th></th>\n",
       "      <th></th>\n",
       "    </tr>\n",
       "  </thead>\n",
       "  <tbody>\n",
       "    <tr>\n",
       "      <th>1976-07-01</th>\n",
       "      <td>36</td>\n",
       "      <td>66</td>\n",
       "      <td>8</td>\n",
       "      <td>4</td>\n",
       "      <td>34</td>\n",
       "      <td>NaN</td>\n",
       "      <td>22</td>\n",
       "      <td>NaN</td>\n",
       "      <td>8</td>\n",
       "      <td>NaN</td>\n",
       "      <td>...</td>\n",
       "      <td>NaN</td>\n",
       "      <td>NaN</td>\n",
       "      <td>6</td>\n",
       "      <td>2</td>\n",
       "      <td>NaN</td>\n",
       "      <td>NaN</td>\n",
       "      <td>NaN</td>\n",
       "      <td>NaN</td>\n",
       "      <td>170</td>\n",
       "      <td>8</td>\n",
       "    </tr>\n",
       "    <tr>\n",
       "      <th>1976-09-01</th>\n",
       "      <td>36</td>\n",
       "      <td>66</td>\n",
       "      <td>8</td>\n",
       "      <td>4</td>\n",
       "      <td>34</td>\n",
       "      <td>NaN</td>\n",
       "      <td>22</td>\n",
       "      <td>NaN</td>\n",
       "      <td>8</td>\n",
       "      <td>NaN</td>\n",
       "      <td>...</td>\n",
       "      <td>NaN</td>\n",
       "      <td>NaN</td>\n",
       "      <td>6</td>\n",
       "      <td>2</td>\n",
       "      <td>NaN</td>\n",
       "      <td>NaN</td>\n",
       "      <td>NaN</td>\n",
       "      <td>NaN</td>\n",
       "      <td>170</td>\n",
       "      <td>8</td>\n",
       "    </tr>\n",
       "    <tr>\n",
       "      <th>1976-10-01</th>\n",
       "      <td>36</td>\n",
       "      <td>66</td>\n",
       "      <td>8</td>\n",
       "      <td>4</td>\n",
       "      <td>34</td>\n",
       "      <td>NaN</td>\n",
       "      <td>22</td>\n",
       "      <td>NaN</td>\n",
       "      <td>8</td>\n",
       "      <td>NaN</td>\n",
       "      <td>...</td>\n",
       "      <td>NaN</td>\n",
       "      <td>NaN</td>\n",
       "      <td>6</td>\n",
       "      <td>2</td>\n",
       "      <td>NaN</td>\n",
       "      <td>NaN</td>\n",
       "      <td>NaN</td>\n",
       "      <td>NaN</td>\n",
       "      <td>170</td>\n",
       "      <td>8</td>\n",
       "    </tr>\n",
       "    <tr>\n",
       "      <th>1976-11-01</th>\n",
       "      <td>36</td>\n",
       "      <td>66</td>\n",
       "      <td>8</td>\n",
       "      <td>4</td>\n",
       "      <td>34</td>\n",
       "      <td>NaN</td>\n",
       "      <td>22</td>\n",
       "      <td>NaN</td>\n",
       "      <td>8</td>\n",
       "      <td>NaN</td>\n",
       "      <td>...</td>\n",
       "      <td>NaN</td>\n",
       "      <td>NaN</td>\n",
       "      <td>6</td>\n",
       "      <td>2</td>\n",
       "      <td>NaN</td>\n",
       "      <td>NaN</td>\n",
       "      <td>NaN</td>\n",
       "      <td>NaN</td>\n",
       "      <td>170</td>\n",
       "      <td>8</td>\n",
       "    </tr>\n",
       "    <tr>\n",
       "      <th>1976-12-31</th>\n",
       "      <td>37</td>\n",
       "      <td>67</td>\n",
       "      <td>9</td>\n",
       "      <td>4</td>\n",
       "      <td>34</td>\n",
       "      <td>NaN</td>\n",
       "      <td>22</td>\n",
       "      <td>NaN</td>\n",
       "      <td>8</td>\n",
       "      <td>NaN</td>\n",
       "      <td>...</td>\n",
       "      <td>NaN</td>\n",
       "      <td>NaN</td>\n",
       "      <td>6</td>\n",
       "      <td>2</td>\n",
       "      <td>NaN</td>\n",
       "      <td>NaN</td>\n",
       "      <td>NaN</td>\n",
       "      <td>NaN</td>\n",
       "      <td>172</td>\n",
       "      <td>9</td>\n",
       "    </tr>\n",
       "  </tbody>\n",
       "</table>\n",
       "<p>5 rows × 37 columns</p>\n",
       "</div>"
      ],
      "text/plain": [
       "            all_m  all_b  all_r  all_am  all_f  all_s  all_cl  all_cr  all_i  \\\n",
       "date                                                                           \n",
       "1976-07-01     36     66      8       4     34    NaN      22     NaN      8   \n",
       "1976-09-01     36     66      8       4     34    NaN      22     NaN      8   \n",
       "1976-10-01     36     66      8       4     34    NaN      22     NaN      8   \n",
       "1976-11-01     36     66      8       4     34    NaN      22     NaN      8   \n",
       "1976-12-31     37     67      9       4     34    NaN      22     NaN      8   \n",
       "\n",
       "            all_ar  ...  end_cr  thrt_cr  end_i  thrt_i  end_ar  thrt_ar  \\\n",
       "date                ...                                                    \n",
       "1976-07-01     NaN  ...     NaN      NaN      6       2     NaN      NaN   \n",
       "1976-09-01     NaN  ...     NaN      NaN      6       2     NaN      NaN   \n",
       "1976-10-01     NaN  ...     NaN      NaN      6       2     NaN      NaN   \n",
       "1976-11-01     NaN  ...     NaN      NaN      6       2     NaN      NaN   \n",
       "1976-12-31     NaN  ...     NaN      NaN      6       2     NaN      NaN   \n",
       "\n",
       "            end_p  thrt_p  end_all  thrt_all  \n",
       "date                                          \n",
       "1976-07-01    NaN     NaN      170         8  \n",
       "1976-09-01    NaN     NaN      170         8  \n",
       "1976-10-01    NaN     NaN      170         8  \n",
       "1976-11-01    NaN     NaN      170         8  \n",
       "1976-12-31    NaN     NaN      172         9  \n",
       "\n",
       "[5 rows x 37 columns]"
      ]
     },
     "execution_count": 3,
     "metadata": {},
     "output_type": "execute_result"
    }
   ],
   "source": [
    "# Previewing data\n",
    "endangered_df.head()"
   ]
  },
  {
   "cell_type": "markdown",
   "metadata": {},
   "source": [
    "### Cleaning Data"
   ]
  },
  {
   "cell_type": "code",
   "execution_count": 4,
   "metadata": {},
   "outputs": [
    {
     "name": "stdout",
     "output_type": "stream",
     "text": [
      "<class 'pandas.core.frame.DataFrame'>\n",
      "DatetimeIndex: 230 entries, 1976-07-01 to 2010-10-27\n",
      "Data columns (total 37 columns):\n",
      "all_m       230 non-null int64\n",
      "all_b       230 non-null int64\n",
      "all_r       230 non-null int64\n",
      "all_am      230 non-null int64\n",
      "all_f       230 non-null int64\n",
      "all_s       207 non-null float64\n",
      "all_cl      230 non-null int64\n",
      "all_cr      211 non-null float64\n",
      "all_i       230 non-null int64\n",
      "all_ar      99 non-null float64\n",
      "all_p       218 non-null float64\n",
      "all_ani     230 non-null int64\n",
      "all_all     230 non-null int64\n",
      "end_m       230 non-null int64\n",
      "thrt_m      230 non-null int64\n",
      "end_b       230 non-null int64\n",
      "thrt_b      230 non-null int64\n",
      "end_r       230 non-null int64\n",
      "thrt_r      226 non-null float64\n",
      "end_am      230 non-null int64\n",
      "thrt_am     225 non-null float64\n",
      "end_f       230 non-null int64\n",
      "thrt_f      230 non-null int64\n",
      "end_s       207 non-null float64\n",
      "thrt_s      207 non-null float64\n",
      "end_cl      230 non-null int64\n",
      "thrt_cl     184 non-null float64\n",
      "end_cr      211 non-null float64\n",
      "thrt_cr     184 non-null float64\n",
      "end_i       230 non-null int64\n",
      "thrt_i      230 non-null int64\n",
      "end_ar      99 non-null float64\n",
      "thrt_ar     99 non-null float64\n",
      "end_p       218 non-null float64\n",
      "thrt_p      210 non-null float64\n",
      "end_all     230 non-null int64\n",
      "thrt_all    230 non-null int64\n",
      "dtypes: float64(15), int64(22)\n",
      "memory usage: 68.3 KB\n",
      "None\n"
     ]
    }
   ],
   "source": [
    "# Confirming 'date' column is in datetime format\n",
    "print(endangered_df.info())"
   ]
  },
  {
   "cell_type": "code",
   "execution_count": 5,
   "metadata": {},
   "outputs": [
    {
     "data": {
      "text/plain": [
       "DatetimeIndex(['1976-07-01', '1976-09-01', '1976-10-01', '1976-11-01',\n",
       "               '1976-12-31', '1977-01-31', '1977-02-28', '1977-03-30',\n",
       "               '1977-04-30', '1977-06-06',\n",
       "               ...\n",
       "               '2008-03-19', '2008-05-13', '2008-08-13', '2008-11-28',\n",
       "               '2009-02-23', '2009-04-03', '2009-08-25', '2009-10-02',\n",
       "               '2010-06-01', '2010-10-27'],\n",
       "              dtype='datetime64[ns]', name='date', length=230, freq=None)"
      ]
     },
     "execution_count": 5,
     "metadata": {},
     "output_type": "execute_result"
    }
   ],
   "source": [
    "# Checking date index values\n",
    "endangered_df.index"
   ]
  },
  {
   "cell_type": "code",
   "execution_count": 6,
   "metadata": {},
   "outputs": [
    {
     "data": {
      "text/plain": [
       "all_m         0\n",
       "all_b         0\n",
       "all_r         0\n",
       "all_am        0\n",
       "all_f         0\n",
       "all_s        23\n",
       "all_cl        0\n",
       "all_cr       19\n",
       "all_i         0\n",
       "all_ar      131\n",
       "all_p        12\n",
       "all_ani       0\n",
       "all_all       0\n",
       "end_m         0\n",
       "thrt_m        0\n",
       "end_b         0\n",
       "thrt_b        0\n",
       "end_r         0\n",
       "thrt_r        4\n",
       "end_am        0\n",
       "thrt_am       5\n",
       "end_f         0\n",
       "thrt_f        0\n",
       "end_s        23\n",
       "thrt_s       23\n",
       "end_cl        0\n",
       "thrt_cl      46\n",
       "end_cr       19\n",
       "thrt_cr      46\n",
       "end_i         0\n",
       "thrt_i        0\n",
       "end_ar      131\n",
       "thrt_ar     131\n",
       "end_p        12\n",
       "thrt_p       20\n",
       "end_all       0\n",
       "thrt_all      0\n",
       "dtype: int64"
      ]
     },
     "execution_count": 6,
     "metadata": {},
     "output_type": "execute_result"
    }
   ],
   "source": [
    "# Checking for null values\n",
    "endangered_df.isnull().sum()"
   ]
  },
  {
   "cell_type": "markdown",
   "metadata": {},
   "source": [
    "### Visualizing Data\n",
    "\n",
    "#### Endangerment and Threatened Status of All Species over time"
   ]
  },
  {
   "cell_type": "code",
   "execution_count": 7,
   "metadata": {},
   "outputs": [
    {
     "data": {
      "image/png": "[encoded data removed]",
      "text/plain": [
       "<Figure size 648x504 with 1 Axes>"
      ]
     },
     "metadata": {
      "needs_background": "light"
     },
     "output_type": "display_data"
    }
   ],
   "source": [
    "# Creating the plot space\n",
    "fig, ax = plt.subplots(figsize=(9, 7))\n",
    "\n",
    "# Adding x-axis and y-axis\n",
    "ax.plot(endangered_df.index.values,\n",
    "        endangered_df['all_all'], '-o',\n",
    "        color='purple')\n",
    "\n",
    "# Setting title and labels for axes\n",
    "ax.set(xlabel=\"Date\",\n",
    "       ylabel=\"Endangered or Threatened Species\",\n",
    "       title=\"Endangerment and Threatened Status of All Species 1976 - 2010\")\n",
    "\n",
    "# Cleaning up x-axis dates\n",
    "ax.xaxis.set_major_locator(mdates.YearLocator(5))\n",
    "ax.xaxis.set_major_formatter(mdates.DateFormatter(\"%Y\"))\n",
    "\n",
    "plt.show()"
   ]
  },
  {
   "cell_type": "markdown",
   "metadata": {},
   "source": [
    "#### Endangerment and Threatened Status of All Mammals over time"
   ]
  },
  {
   "cell_type": "code",
   "execution_count": 8,
   "metadata": {},
   "outputs": [
    {
     "data": {
      "image/png": "[encoded data removed]",
      "text/plain": [
       "<Figure size 648x504 with 1 Axes>"
      ]
     },
     "metadata": {
      "needs_background": "light"
     },
     "output_type": "display_data"
    }
   ],
   "source": [
    "# Creating plot space for plotting the data\n",
    "fig, ax = plt.subplots(figsize=(9, 7))\n",
    "\n",
    "# Adding x-axis and the y-axis to plot\n",
    "ax.plot(endangered_df.index.values,\n",
    "        endangered_df['all_m'], '-o',\n",
    "        color='red')\n",
    "\n",
    "# Setting title and labels for axes\n",
    "ax.set(xlabel=\"Date\",\n",
    "       ylabel=\"Endangered or Threatened Mammals\",\n",
    "       title=\"Endangerment and Threatened Status of Mammals 1976 - 2010\")\n",
    "\n",
    "# Cleaning up x axis dates\n",
    "ax.xaxis.set_major_locator(mdates.YearLocator(5))\n",
    "ax.xaxis.set_major_formatter(mdates.DateFormatter(\"%Y\"))\n",
    "\n",
    "plt.show()"
   ]
  },
  {
   "cell_type": "markdown",
   "metadata": {},
   "source": [
    "## Species by Region - Initial Exploration"
   ]
  },
  {
   "cell_type": "markdown",
   "metadata": {},
   "source": [
    "Although I ultimately decided to focus on the data from Figure 22, I was interested in exploring some of the region-specific files to get a sense of trends and possibilities for analysis alongside the main data file."
   ]
  },
  {
   "cell_type": "code",
   "execution_count": 9,
   "metadata": {},
   "outputs": [],
   "source": [
    "# Importing region specific csv files\n",
    "\n",
    "north_df = pd.read_csv(\"RDS-2014-0009/Data/Figure_16_North.csv\")\n",
    "\n",
    "pacific_coast_df = pd.read_csv(\"RDS-2014-0009/Data/Figure_16_Pacific_Coast.csv\")\n",
    "\n",
    "rocky_mt_df = pd.read_csv(\"RDS-2014-0009/Data/Figure_16_Rocky_Mountain.csv\")\n",
    "\n",
    "south_df = pd.read_csv(\"RDS-2014-0009/Data/Figure_16_South.csv\")\n",
    "\n",
    "us_df = pd.read_csv(\"RDS-2014-0009/Data/Figure_16_US.csv\")"
   ]
  },
  {
   "cell_type": "code",
   "execution_count": 10,
   "metadata": {},
   "outputs": [
    {
     "data": {
      "text/html": [
       "<div>\n",
       "<style scoped>\n",
       "    .dataframe tbody tr th:only-of-type {\n",
       "        vertical-align: middle;\n",
       "    }\n",
       "\n",
       "    .dataframe tbody tr th {\n",
       "        vertical-align: top;\n",
       "    }\n",
       "\n",
       "    .dataframe thead th {\n",
       "        text-align: right;\n",
       "    }\n",
       "</style>\n",
       "<table border=\"1\" class=\"dataframe\">\n",
       "  <thead>\n",
       "    <tr style=\"text-align: right;\">\n",
       "      <th></th>\n",
       "      <th>year</th>\n",
       "      <th>arctic_fox_sum</th>\n",
       "      <th>badger_sum</th>\n",
       "      <th>bassarisk_sum</th>\n",
       "      <th>beaver_sum</th>\n",
       "      <th>bobcat_sum</th>\n",
       "      <th>cougar_sum</th>\n",
       "      <th>coyote_sum</th>\n",
       "      <th>fisher_sum</th>\n",
       "      <th>fox_gray_sum</th>\n",
       "      <th>...</th>\n",
       "      <th>opossum_sum</th>\n",
       "      <th>otter_sum</th>\n",
       "      <th>raccoon_sum</th>\n",
       "      <th>skunk_hooded_sum</th>\n",
       "      <th>skunk_hognosed_sum</th>\n",
       "      <th>skunk_striped_sum</th>\n",
       "      <th>squirrel_sum</th>\n",
       "      <th>weasel_sum</th>\n",
       "      <th>wolverine_sum</th>\n",
       "      <th>all_species_sum</th>\n",
       "    </tr>\n",
       "  </thead>\n",
       "  <tbody>\n",
       "    <tr>\n",
       "      <th>0</th>\n",
       "      <td>1970</td>\n",
       "      <td>2600</td>\n",
       "      <td>109</td>\n",
       "      <td>0</td>\n",
       "      <td>16121</td>\n",
       "      <td>1845</td>\n",
       "      <td>0</td>\n",
       "      <td>2213</td>\n",
       "      <td>0</td>\n",
       "      <td>450</td>\n",
       "      <td>...</td>\n",
       "      <td>684</td>\n",
       "      <td>2057</td>\n",
       "      <td>3470</td>\n",
       "      <td>0</td>\n",
       "      <td>0</td>\n",
       "      <td>1133</td>\n",
       "      <td>0</td>\n",
       "      <td>782</td>\n",
       "      <td>0</td>\n",
       "      <td>162801</td>\n",
       "    </tr>\n",
       "    <tr>\n",
       "      <th>1</th>\n",
       "      <td>1971</td>\n",
       "      <td>1650</td>\n",
       "      <td>146</td>\n",
       "      <td>0</td>\n",
       "      <td>21655</td>\n",
       "      <td>2525</td>\n",
       "      <td>0</td>\n",
       "      <td>3019</td>\n",
       "      <td>0</td>\n",
       "      <td>315</td>\n",
       "      <td>...</td>\n",
       "      <td>776</td>\n",
       "      <td>2862</td>\n",
       "      <td>4232</td>\n",
       "      <td>0</td>\n",
       "      <td>0</td>\n",
       "      <td>1051</td>\n",
       "      <td>0</td>\n",
       "      <td>674</td>\n",
       "      <td>548</td>\n",
       "      <td>189716</td>\n",
       "    </tr>\n",
       "    <tr>\n",
       "      <th>2</th>\n",
       "      <td>1972</td>\n",
       "      <td>1790</td>\n",
       "      <td>204</td>\n",
       "      <td>0</td>\n",
       "      <td>29454</td>\n",
       "      <td>2596</td>\n",
       "      <td>0</td>\n",
       "      <td>4769</td>\n",
       "      <td>0</td>\n",
       "      <td>703</td>\n",
       "      <td>...</td>\n",
       "      <td>1037</td>\n",
       "      <td>3458</td>\n",
       "      <td>5952</td>\n",
       "      <td>0</td>\n",
       "      <td>0</td>\n",
       "      <td>967</td>\n",
       "      <td>0</td>\n",
       "      <td>1858</td>\n",
       "      <td>946</td>\n",
       "      <td>229238</td>\n",
       "    </tr>\n",
       "    <tr>\n",
       "      <th>3</th>\n",
       "      <td>1973</td>\n",
       "      <td>2340</td>\n",
       "      <td>442</td>\n",
       "      <td>0</td>\n",
       "      <td>29494</td>\n",
       "      <td>3976</td>\n",
       "      <td>0</td>\n",
       "      <td>9484</td>\n",
       "      <td>0</td>\n",
       "      <td>1328</td>\n",
       "      <td>...</td>\n",
       "      <td>2216</td>\n",
       "      <td>3473</td>\n",
       "      <td>9751</td>\n",
       "      <td>0</td>\n",
       "      <td>0</td>\n",
       "      <td>3260</td>\n",
       "      <td>0</td>\n",
       "      <td>2672</td>\n",
       "      <td>1037</td>\n",
       "      <td>278957</td>\n",
       "    </tr>\n",
       "    <tr>\n",
       "      <th>4</th>\n",
       "      <td>1974</td>\n",
       "      <td>755</td>\n",
       "      <td>486</td>\n",
       "      <td>0</td>\n",
       "      <td>28501</td>\n",
       "      <td>3686</td>\n",
       "      <td>0</td>\n",
       "      <td>11951</td>\n",
       "      <td>0</td>\n",
       "      <td>1231</td>\n",
       "      <td>...</td>\n",
       "      <td>2106</td>\n",
       "      <td>3104</td>\n",
       "      <td>11175</td>\n",
       "      <td>0</td>\n",
       "      <td>0</td>\n",
       "      <td>2310</td>\n",
       "      <td>0</td>\n",
       "      <td>1152</td>\n",
       "      <td>805</td>\n",
       "      <td>269475</td>\n",
       "    </tr>\n",
       "  </tbody>\n",
       "</table>\n",
       "<p>5 rows × 29 columns</p>\n",
       "</div>"
      ],
      "text/plain": [
       "   year  arctic_fox_sum  badger_sum  bassarisk_sum  beaver_sum  bobcat_sum  \\\n",
       "0  1970            2600         109              0       16121        1845   \n",
       "1  1971            1650         146              0       21655        2525   \n",
       "2  1972            1790         204              0       29454        2596   \n",
       "3  1973            2340         442              0       29494        3976   \n",
       "4  1974             755         486              0       28501        3686   \n",
       "\n",
       "   cougar_sum  coyote_sum  fisher_sum  fox_gray_sum  ...  opossum_sum  \\\n",
       "0           0        2213           0           450  ...          684   \n",
       "1           0        3019           0           315  ...          776   \n",
       "2           0        4769           0           703  ...         1037   \n",
       "3           0        9484           0          1328  ...         2216   \n",
       "4           0       11951           0          1231  ...         2106   \n",
       "\n",
       "   otter_sum  raccoon_sum  skunk_hooded_sum  skunk_hognosed_sum  \\\n",
       "0       2057         3470                 0                   0   \n",
       "1       2862         4232                 0                   0   \n",
       "2       3458         5952                 0                   0   \n",
       "3       3473         9751                 0                   0   \n",
       "4       3104        11175                 0                   0   \n",
       "\n",
       "   skunk_striped_sum  squirrel_sum  weasel_sum  wolverine_sum  all_species_sum  \n",
       "0               1133             0         782              0           162801  \n",
       "1               1051             0         674            548           189716  \n",
       "2                967             0        1858            946           229238  \n",
       "3               3260             0        2672           1037           278957  \n",
       "4               2310             0        1152            805           269475  \n",
       "\n",
       "[5 rows x 29 columns]"
      ]
     },
     "execution_count": 10,
     "metadata": {},
     "output_type": "execute_result"
    }
   ],
   "source": [
    "# Previewing pacific coast data\n",
    "pacific_coast_df.head()"
   ]
  },
  {
   "cell_type": "code",
   "execution_count": 11,
   "metadata": {},
   "outputs": [
    {
     "data": {
      "text/plain": [
       "Index(['year', 'arctic_fox_sum', 'badger_sum', 'bassarisk_sum', 'beaver_sum',\n",
       "       'bobcat_sum', 'cougar_sum', 'coyote_sum', 'fisher_sum', 'fox_gray_sum',\n",
       "       'fox_kit_sum', 'fox_red_sum', 'fox_swift_sum', 'gray_wolf_sum',\n",
       "       'lynx_sum', 'marten_sum', 'mink_sum', 'muskrat_sum', 'nutria_sum',\n",
       "       'opossum_sum', 'otter_sum', 'raccoon_sum', 'skunk_hooded_sum',\n",
       "       'skunk_hognosed_sum', 'skunk_striped_sum', 'squirrel_sum', 'weasel_sum',\n",
       "       'wolverine_sum', 'all_species_sum'],\n",
       "      dtype='object')"
      ]
     },
     "execution_count": 11,
     "metadata": {},
     "output_type": "execute_result"
    }
   ],
   "source": [
    "# Printing column names\n",
    "pacific_coast_df.columns"
   ]
  },
  {
   "cell_type": "code",
   "execution_count": 12,
   "metadata": {},
   "outputs": [
    {
     "data": {
      "text/plain": [
       "year                  0\n",
       "arctic_fox_sum        0\n",
       "badger_sum            0\n",
       "bassarisk_sum         0\n",
       "beaver_sum            0\n",
       "bobcat_sum            0\n",
       "cougar_sum            0\n",
       "coyote_sum            0\n",
       "fisher_sum            0\n",
       "fox_gray_sum          0\n",
       "fox_kit_sum           0\n",
       "fox_red_sum           0\n",
       "fox_swift_sum         0\n",
       "gray_wolf_sum         0\n",
       "lynx_sum              0\n",
       "marten_sum            0\n",
       "mink_sum              0\n",
       "muskrat_sum           0\n",
       "nutria_sum            0\n",
       "opossum_sum           0\n",
       "otter_sum             0\n",
       "raccoon_sum           0\n",
       "skunk_hooded_sum      0\n",
       "skunk_hognosed_sum    0\n",
       "skunk_striped_sum     0\n",
       "squirrel_sum          0\n",
       "weasel_sum            0\n",
       "wolverine_sum         0\n",
       "all_species_sum       0\n",
       "dtype: int64"
      ]
     },
     "execution_count": 12,
     "metadata": {},
     "output_type": "execute_result"
    }
   ],
   "source": [
    "# Checking for null values - pacific coast region\n",
    "pacific_coast_df.isnull().sum()"
   ]
  },
  {
   "cell_type": "markdown",
   "metadata": {},
   "source": [
    "### Visualizing Pacific Coast Region Data\n",
    "\n",
    "Scatter plot representing the Red Fox harvest sum in comparison to the harvest sum of all species from the Pacific Coast region."
   ]
  },
  {
   "cell_type": "code",
   "execution_count": 13,
   "metadata": {},
   "outputs": [
    {
     "data": {
      "image/png": "[encoded data removed]",
      "text/plain": [
       "<Figure size 648x504 with 2 Axes>"
      ]
     },
     "metadata": {
      "needs_background": "light"
     },
     "output_type": "display_data"
    }
   ],
   "source": [
    "# Plotting 'all species sum' over the years - Pacific Coast\n",
    "fig, ax = plt.subplots()\n",
    "pacific_coast_df.plot(kind='scatter',\n",
    "                      x='year', \n",
    "                      y='all_species_sum', \n",
    "                      c='fox_red_sum', \n",
    "                      colormap='viridis', \n",
    "                      ax=ax,\n",
    "                      figsize=(9, 7))\n",
    "plt.title('Pacific Coast Species Harvest Sum 1970 - 2010')\n",
    "plt.show()"
   ]
  },
  {
   "cell_type": "markdown",
   "metadata": {},
   "source": [
    "### Visualizing South Region Data\n",
    "\n",
    "Scatter plot representing the Red Fox harvest sum in comparison to the harvest sum of all species from the South region."
   ]
  },
  {
   "cell_type": "code",
   "execution_count": 14,
   "metadata": {},
   "outputs": [
    {
     "data": {
      "image/png": "[encoded data removed]",
      "text/plain": [
       "<Figure size 648x504 with 2 Axes>"
      ]
     },
     "metadata": {
      "needs_background": "light"
     },
     "output_type": "display_data"
    }
   ],
   "source": [
    "# Plotting 'all species sum' over the years - south\n",
    "fig, ax = plt.subplots()\n",
    "south_df.plot(kind='scatter',\n",
    "                      x='year', \n",
    "                      y='all_species_sum', \n",
    "                      c='fox_red_sum', \n",
    "                      colormap='viridis', \n",
    "                      ax=ax,\n",
    "                      figsize=(9, 7))\n",
    "plt.title('South Species Harvest Sum 1970 - 2010')\n",
    "plt.show()"
   ]
  },
  {
   "cell_type": "markdown",
   "metadata": {},
   "source": [
    "I realized that the specific region data would be difficult to combine with the main dataset because besides the year, all of the variables are completely different. So I realized it would be best to stick with the main dataset from Figure 22."
   ]
  },
  {
   "cell_type": "markdown",
   "metadata": {},
   "source": [
    "## Endangered or Threatened Species\n",
    "\n",
    "### Histograms of Variables"
   ]
  },
  {
   "cell_type": "markdown",
   "metadata": {},
   "source": [
    "#### All Species"
   ]
  },
  {
   "cell_type": "code",
   "execution_count": 15,
   "metadata": {},
   "outputs": [
    {
     "data": {
      "image/png": "[encoded data removed]",
      "text/plain": [
       "<Figure size 432x288 with 1 Axes>"
      ]
     },
     "metadata": {
      "needs_background": "light"
     },
     "output_type": "display_data"
    },
    {
     "data": {
      "text/plain": [
       "<Figure size 576x432 with 0 Axes>"
      ]
     },
     "metadata": {},
     "output_type": "display_data"
    }
   ],
   "source": [
    "# Plotting histogram of 'all species' variable\n",
    "hist_all_all = thinkstats2.Hist(endangered_df.all_all, label='All Species')\n",
    "thinkplot.Hist(hist_all_all)\n",
    "thinkplot.Show(xlabel='Threatened or Endangered Species', ylabel='Frequency')"
   ]
  },
  {
   "cell_type": "code",
   "execution_count": 16,
   "metadata": {},
   "outputs": [
    {
     "name": "stdout",
     "output_type": "stream",
     "text": [
      "Mean: 592.3478260869565\n",
      "Mode: [284]\n",
      "Variance: 151995.38940573382\n",
      "Standard Deviation: 389.86586078513443\n"
     ]
    }
   ],
   "source": [
    "# Descriptive statistics - all species\n",
    "print('Mean:', endangered_df.all_all.mean())\n",
    "print('Mode:', endangered_df.all_all.mode().values)\n",
    "print('Variance:', endangered_df.all_all.var())\n",
    "print('Standard Deviation:', endangered_df.all_all.std())"
   ]
  },
  {
   "cell_type": "markdown",
   "metadata": {},
   "source": [
    "#### All Mammals"
   ]
  },
  {
   "cell_type": "code",
   "execution_count": 17,
   "metadata": {},
   "outputs": [
    {
     "data": {
      "image/png": "[encoded data removed]",
      "text/plain": [
       "<Figure size 432x288 with 1 Axes>"
      ]
     },
     "metadata": {
      "needs_background": "light"
     },
     "output_type": "display_data"
    },
    {
     "data": {
      "text/plain": [
       "<Figure size 576x432 with 0 Axes>"
      ]
     },
     "metadata": {},
     "output_type": "display_data"
    }
   ],
   "source": [
    "# Plotting histogram of 'all mammals' variable\n",
    "hist_all_m = thinkstats2.Hist(endangered_df.all_m, label='Mammals')\n",
    "thinkplot.Hist(hist_all_m)\n",
    "thinkplot.Show(xlabel='Threatened or Endangered Mammals', ylabel='Frequency')"
   ]
  },
  {
   "cell_type": "code",
   "execution_count": 18,
   "metadata": {},
   "outputs": [
    {
     "name": "stdout",
     "output_type": "stream",
     "text": [
      "Mean: 51.947826086956525\n",
      "Mode: [36]\n",
      "Variance: 238.9142965635086\n",
      "Standard Deviation: 15.45685273797705\n"
     ]
    }
   ],
   "source": [
    "# Descriptive statistics - all mammals\n",
    "print('Mean:', endangered_df.all_m.mean())\n",
    "print('Mode:', endangered_df.all_m.mode().values)\n",
    "print('Variance:', endangered_df.all_m.var())\n",
    "print('Standard Deviation:', endangered_df.all_m.std())"
   ]
  },
  {
   "cell_type": "markdown",
   "metadata": {},
   "source": [
    "#### All Birds"
   ]
  },
  {
   "cell_type": "code",
   "execution_count": 19,
   "metadata": {},
   "outputs": [
    {
     "data": {
      "image/png": "[encoded data removed]",
      "text/plain": [
       "<Figure size 432x288 with 1 Axes>"
      ]
     },
     "metadata": {
      "needs_background": "light"
     },
     "output_type": "display_data"
    },
    {
     "data": {
      "text/plain": [
       "<Figure size 576x432 with 0 Axes>"
      ]
     },
     "metadata": {},
     "output_type": "display_data"
    }
   ],
   "source": [
    "# Plotting histogram of 'all birds' variable\n",
    "hist_all_b = thinkstats2.Hist(endangered_df.all_b, label='Birds')\n",
    "thinkplot.Hist(hist_all_b)\n",
    "thinkplot.Show(xlabel='Threatened or Endangered Birds', ylabel='Frequency')"
   ]
  },
  {
   "cell_type": "code",
   "execution_count": 20,
   "metadata": {},
   "outputs": [
    {
     "name": "stdout",
     "output_type": "stream",
     "text": [
      "Mean: 79.59130434782608\n",
      "Mode: [69]\n",
      "Variance: 88.15538257072342\n",
      "Standard Deviation: 9.389109785848891\n"
     ]
    }
   ],
   "source": [
    "# Descriptive statistics - all birds\n",
    "print('Mean:', endangered_df.all_b.mean())\n",
    "print('Mode:', endangered_df.all_b.mode().values)\n",
    "print('Variance:', endangered_df.all_b.var())\n",
    "print('Standard Deviation:', endangered_df.all_b.std())"
   ]
  },
  {
   "cell_type": "markdown",
   "metadata": {},
   "source": [
    "#### All Reptiles"
   ]
  },
  {
   "cell_type": "code",
   "execution_count": 21,
   "metadata": {},
   "outputs": [
    {
     "data": {
      "image/png": "[encoded data removed]",
      "text/plain": [
       "<Figure size 432x288 with 1 Axes>"
      ]
     },
     "metadata": {
      "needs_background": "light"
     },
     "output_type": "display_data"
    },
    {
     "data": {
      "text/plain": [
       "<Figure size 576x432 with 0 Axes>"
      ]
     },
     "metadata": {},
     "output_type": "display_data"
    }
   ],
   "source": [
    "# Plotting histogram of 'all reptiles' variable\n",
    "hist_all_r = thinkstats2.Hist(endangered_df.all_r, label='Reptiles')\n",
    "thinkplot.Hist(hist_all_r)\n",
    "thinkplot.Show(xlabel='Threatened or Endangered Reptiles', ylabel='Frequency')"
   ]
  },
  {
   "cell_type": "code",
   "execution_count": 22,
   "metadata": {},
   "outputs": [
    {
     "name": "stdout",
     "output_type": "stream",
     "text": [
      "Mean: 27.830434782608695\n",
      "Mode: [26]\n",
      "Variance: 55.61741029048798\n",
      "Standard Deviation: 7.457708112449024\n"
     ]
    }
   ],
   "source": [
    "# Descriptive statistics - all reptiles\n",
    "print('Mean:', endangered_df.all_r.mean())\n",
    "print('Mode:', endangered_df.all_r.mode().values)\n",
    "print('Variance:', endangered_df.all_r.var())\n",
    "print('Standard Deviation:', endangered_df.all_r.std())"
   ]
  },
  {
   "cell_type": "markdown",
   "metadata": {},
   "source": [
    "#### All Amphibians"
   ]
  },
  {
   "cell_type": "code",
   "execution_count": 23,
   "metadata": {},
   "outputs": [
    {
     "data": {
      "image/png": "[encoded data removed]",
      "text/plain": [
       "<Figure size 432x288 with 1 Axes>"
      ]
     },
     "metadata": {
      "needs_background": "light"
     },
     "output_type": "display_data"
    },
    {
     "data": {
      "text/plain": [
       "<Figure size 576x432 with 0 Axes>"
      ]
     },
     "metadata": {},
     "output_type": "display_data"
    }
   ],
   "source": [
    "# Plotting histogram of 'all amphibians' variable\n",
    "hist_all_am = thinkstats2.Hist(endangered_df.all_am, label='Amphibians')\n",
    "thinkplot.Hist(hist_all_am)\n",
    "thinkplot.Show(xlabel='Threatened or Endangered Amphibians', ylabel='Frequency')"
   ]
  },
  {
   "cell_type": "code",
   "execution_count": 24,
   "metadata": {},
   "outputs": [
    {
     "name": "stdout",
     "output_type": "stream",
     "text": [
      "Mean: 10.791304347826086\n",
      "Mode: [8]\n",
      "Variance: 26.130928422251763\n",
      "Standard Deviation: 5.111841979389793\n"
     ]
    }
   ],
   "source": [
    "# Descriptive statistics - all amphibians\n",
    "print('Mean:', endangered_df.all_am.mean())\n",
    "print('Mode:', endangered_df.all_am.mode().values)\n",
    "print('Variance:', endangered_df.all_am.var())\n",
    "print('Standard Deviation:', endangered_df.all_am.std())"
   ]
  },
  {
   "cell_type": "markdown",
   "metadata": {},
   "source": [
    "### Outliers\n",
    "\n",
    "#### All Species"
   ]
  },
  {
   "cell_type": "code",
   "execution_count": 25,
   "metadata": {},
   "outputs": [
    {
     "name": "stdout",
     "output_type": "stream",
     "text": [
      "178 4\n",
      "181 1\n",
      "183 4\n",
      "185 2\n",
      "186 1\n",
      "194 1\n",
      "199 2\n",
      "202 2\n",
      "204 1\n",
      "206 1\n"
     ]
    }
   ],
   "source": [
    "# Smallest values for all species\n",
    "for all_all, freq in hist_all_all.Smallest(10):\n",
    "    print(all_all, freq)"
   ]
  },
  {
   "cell_type": "code",
   "execution_count": 26,
   "metadata": {},
   "outputs": [
    {
     "name": "stdout",
     "output_type": "stream",
     "text": [
      "1375 1\n",
      "1368 1\n",
      "1358 1\n",
      "1353 1\n",
      "1352 1\n",
      "1321 1\n",
      "1320 1\n",
      "1318 1\n",
      "1317 1\n",
      "1311 2\n"
     ]
    }
   ],
   "source": [
    "# Largest values for all species\n",
    "for all_all, freq in hist_all_all.Largest(10):\n",
    "    print(all_all, freq)"
   ]
  },
  {
   "cell_type": "markdown",
   "metadata": {},
   "source": [
    "#### All Mammals"
   ]
  },
  {
   "cell_type": "code",
   "execution_count": 27,
   "metadata": {},
   "outputs": [
    {
     "name": "stdout",
     "output_type": "stream",
     "text": [
      "35 23\n",
      "36 40\n",
      "37 6\n",
      "38 23\n",
      "41 3\n",
      "42 1\n",
      "43 5\n",
      "46 1\n",
      "48 5\n",
      "49 8\n"
     ]
    }
   ],
   "source": [
    "# Smallest values for all mammals\n",
    "for all_m, freq in hist_all_m.Smallest(10):\n",
    "    print(all_m, freq)"
   ]
  },
  {
   "cell_type": "code",
   "execution_count": 28,
   "metadata": {},
   "outputs": [
    {
     "name": "stdout",
     "output_type": "stream",
     "text": [
      "85 2\n",
      "84 3\n",
      "83 1\n",
      "82 4\n",
      "81 3\n",
      "79 1\n",
      "78 3\n",
      "74 8\n",
      "73 1\n",
      "72 6\n"
     ]
    }
   ],
   "source": [
    "# Largest values for all mammals\n",
    "for all_m, freq in hist_all_m.Largest(10):\n",
    "    print(all_m, freq)"
   ]
  },
  {
   "cell_type": "markdown",
   "metadata": {},
   "source": [
    "#### All Birds"
   ]
  },
  {
   "cell_type": "code",
   "execution_count": 29,
   "metadata": {},
   "outputs": [
    {
     "name": "stdout",
     "output_type": "stream",
     "text": [
      "66 4\n",
      "67 5\n",
      "68 6\n",
      "69 43\n",
      "70 29\n",
      "71 5\n",
      "76 8\n",
      "77 7\n",
      "79 2\n",
      "80 3\n"
     ]
    }
   ],
   "source": [
    "# Smallest values for all birds\n",
    "for all_b, freq in hist_all_b.Smallest(10):\n",
    "    print(all_b, freq)"
   ]
  },
  {
   "cell_type": "code",
   "execution_count": 30,
   "metadata": {},
   "outputs": [
    {
     "name": "stdout",
     "output_type": "stream",
     "text": [
      "93 3\n",
      "92 15\n",
      "91 7\n",
      "90 37\n",
      "89 7\n",
      "88 1\n",
      "87 3\n",
      "86 15\n",
      "85 17\n",
      "84 2\n"
     ]
    }
   ],
   "source": [
    "# Largest values for all birds\n",
    "for all_b, freq in hist_all_b.Largest(10):\n",
    "    print(all_b, freq)"
   ]
  },
  {
   "cell_type": "markdown",
   "metadata": {},
   "source": [
    "#### All Reptiles"
   ]
  },
  {
   "cell_type": "code",
   "execution_count": 31,
   "metadata": {},
   "outputs": [
    {
     "name": "stdout",
     "output_type": "stream",
     "text": [
      "8 4\n",
      "9 5\n",
      "10 2\n",
      "11 1\n",
      "12 3\n",
      "13 2\n",
      "14 1\n",
      "16 5\n",
      "20 1\n",
      "21 19\n"
     ]
    }
   ],
   "source": [
    "# Smallest values for all reptiles\n",
    "for all_r, freq in hist_all_r.Smallest(10):\n",
    "    print(all_r, freq)"
   ]
  },
  {
   "cell_type": "code",
   "execution_count": 32,
   "metadata": {},
   "outputs": [
    {
     "name": "stdout",
     "output_type": "stream",
     "text": [
      "37 13\n",
      "36 23\n",
      "35 10\n",
      "34 21\n",
      "33 30\n",
      "32 7\n",
      "31 1\n",
      "29 2\n",
      "28 6\n",
      "27 2\n"
     ]
    }
   ],
   "source": [
    "# Largest values for all reptiles\n",
    "for all_r, freq in hist_all_r.Largest(10):\n",
    "    print(all_r, freq)"
   ]
  },
  {
   "cell_type": "markdown",
   "metadata": {},
   "source": [
    "#### All Amphibians"
   ]
  },
  {
   "cell_type": "code",
   "execution_count": 33,
   "metadata": {},
   "outputs": [
    {
     "name": "stdout",
     "output_type": "stream",
     "text": [
      "4 5\n",
      "5 10\n",
      "7 31\n",
      "8 77\n",
      "9 16\n",
      "11 31\n",
      "12 8\n",
      "13 3\n",
      "14 2\n",
      "15 1\n"
     ]
    }
   ],
   "source": [
    "# Smallest values for all amphibians\n",
    "for all_am, freq in hist_all_am.Smallest(10):\n",
    "    print(all_am, freq)"
   ]
  },
  {
   "cell_type": "code",
   "execution_count": 34,
   "metadata": {},
   "outputs": [
    {
     "name": "stdout",
     "output_type": "stream",
     "text": [
      "25 4\n",
      "24 3\n",
      "23 6\n",
      "21 11\n",
      "19 2\n",
      "18 6\n",
      "17 5\n",
      "16 9\n",
      "15 1\n",
      "14 2\n"
     ]
    }
   ],
   "source": [
    "# Largest values for all amphibians\n",
    "for all_am, freq in hist_all_am.Largest(10):\n",
    "    print(all_am, freq)"
   ]
  },
  {
   "cell_type": "markdown",
   "metadata": {},
   "source": [
    "The largest and smallest values for these variables are reasonable in this context, so there's no need to remove any outliers."
   ]
  },
  {
   "cell_type": "markdown",
   "metadata": {},
   "source": [
    "### Probability Mass Function (PMF)  \n",
    "\n",
    "I will be using the PMF to get probabilities of the possible values for all mammals threatened or endangered during the early years (1976 – 1980) and compare this to other years."
   ]
  },
  {
   "cell_type": "code",
   "execution_count": 35,
   "metadata": {},
   "outputs": [],
   "source": [
    "# Creating subsets of all mammals variable for early years (1976 - 1980) and all other years\n",
    "\n",
    "mask1 = (endangered_df.index > '1976-07-01') & (endangered_df.index <= '1980-12-31')\n",
    "mask2 = (endangered_df.index > '1980-12-31')\n",
    "\n",
    "all_m_low = endangered_df.loc[mask1]\n",
    "all_m_rest = endangered_df.loc[mask2]"
   ]
  },
  {
   "cell_type": "code",
   "execution_count": 36,
   "metadata": {},
   "outputs": [
    {
     "data": {
      "text/html": [
       "<div>\n",
       "<style scoped>\n",
       "    .dataframe tbody tr th:only-of-type {\n",
       "        vertical-align: middle;\n",
       "    }\n",
       "\n",
       "    .dataframe tbody tr th {\n",
       "        vertical-align: top;\n",
       "    }\n",
       "\n",
       "    .dataframe thead th {\n",
       "        text-align: right;\n",
       "    }\n",
       "</style>\n",
       "<table border=\"1\" class=\"dataframe\">\n",
       "  <thead>\n",
       "    <tr style=\"text-align: right;\">\n",
       "      <th></th>\n",
       "      <th>all_m</th>\n",
       "      <th>all_b</th>\n",
       "      <th>all_r</th>\n",
       "      <th>all_am</th>\n",
       "      <th>all_f</th>\n",
       "      <th>all_s</th>\n",
       "      <th>all_cl</th>\n",
       "      <th>all_cr</th>\n",
       "      <th>all_i</th>\n",
       "      <th>all_ar</th>\n",
       "      <th>...</th>\n",
       "      <th>end_cr</th>\n",
       "      <th>thrt_cr</th>\n",
       "      <th>end_i</th>\n",
       "      <th>thrt_i</th>\n",
       "      <th>end_ar</th>\n",
       "      <th>thrt_ar</th>\n",
       "      <th>end_p</th>\n",
       "      <th>thrt_p</th>\n",
       "      <th>end_all</th>\n",
       "      <th>thrt_all</th>\n",
       "    </tr>\n",
       "    <tr>\n",
       "      <th>date</th>\n",
       "      <th></th>\n",
       "      <th></th>\n",
       "      <th></th>\n",
       "      <th></th>\n",
       "      <th></th>\n",
       "      <th></th>\n",
       "      <th></th>\n",
       "      <th></th>\n",
       "      <th></th>\n",
       "      <th></th>\n",
       "      <th></th>\n",
       "      <th></th>\n",
       "      <th></th>\n",
       "      <th></th>\n",
       "      <th></th>\n",
       "      <th></th>\n",
       "      <th></th>\n",
       "      <th></th>\n",
       "      <th></th>\n",
       "      <th></th>\n",
       "      <th></th>\n",
       "    </tr>\n",
       "  </thead>\n",
       "  <tbody>\n",
       "    <tr>\n",
       "      <th>1976-09-01</th>\n",
       "      <td>36</td>\n",
       "      <td>66</td>\n",
       "      <td>8</td>\n",
       "      <td>4</td>\n",
       "      <td>34</td>\n",
       "      <td>NaN</td>\n",
       "      <td>22</td>\n",
       "      <td>NaN</td>\n",
       "      <td>8</td>\n",
       "      <td>NaN</td>\n",
       "      <td>...</td>\n",
       "      <td>NaN</td>\n",
       "      <td>NaN</td>\n",
       "      <td>6</td>\n",
       "      <td>2</td>\n",
       "      <td>NaN</td>\n",
       "      <td>NaN</td>\n",
       "      <td>NaN</td>\n",
       "      <td>NaN</td>\n",
       "      <td>170</td>\n",
       "      <td>8</td>\n",
       "    </tr>\n",
       "    <tr>\n",
       "      <th>1976-10-01</th>\n",
       "      <td>36</td>\n",
       "      <td>66</td>\n",
       "      <td>8</td>\n",
       "      <td>4</td>\n",
       "      <td>34</td>\n",
       "      <td>NaN</td>\n",
       "      <td>22</td>\n",
       "      <td>NaN</td>\n",
       "      <td>8</td>\n",
       "      <td>NaN</td>\n",
       "      <td>...</td>\n",
       "      <td>NaN</td>\n",
       "      <td>NaN</td>\n",
       "      <td>6</td>\n",
       "      <td>2</td>\n",
       "      <td>NaN</td>\n",
       "      <td>NaN</td>\n",
       "      <td>NaN</td>\n",
       "      <td>NaN</td>\n",
       "      <td>170</td>\n",
       "      <td>8</td>\n",
       "    </tr>\n",
       "    <tr>\n",
       "      <th>1976-11-01</th>\n",
       "      <td>36</td>\n",
       "      <td>66</td>\n",
       "      <td>8</td>\n",
       "      <td>4</td>\n",
       "      <td>34</td>\n",
       "      <td>NaN</td>\n",
       "      <td>22</td>\n",
       "      <td>NaN</td>\n",
       "      <td>8</td>\n",
       "      <td>NaN</td>\n",
       "      <td>...</td>\n",
       "      <td>NaN</td>\n",
       "      <td>NaN</td>\n",
       "      <td>6</td>\n",
       "      <td>2</td>\n",
       "      <td>NaN</td>\n",
       "      <td>NaN</td>\n",
       "      <td>NaN</td>\n",
       "      <td>NaN</td>\n",
       "      <td>170</td>\n",
       "      <td>8</td>\n",
       "    </tr>\n",
       "    <tr>\n",
       "      <th>1976-12-31</th>\n",
       "      <td>37</td>\n",
       "      <td>67</td>\n",
       "      <td>9</td>\n",
       "      <td>4</td>\n",
       "      <td>34</td>\n",
       "      <td>NaN</td>\n",
       "      <td>22</td>\n",
       "      <td>NaN</td>\n",
       "      <td>8</td>\n",
       "      <td>NaN</td>\n",
       "      <td>...</td>\n",
       "      <td>NaN</td>\n",
       "      <td>NaN</td>\n",
       "      <td>6</td>\n",
       "      <td>2</td>\n",
       "      <td>NaN</td>\n",
       "      <td>NaN</td>\n",
       "      <td>NaN</td>\n",
       "      <td>NaN</td>\n",
       "      <td>172</td>\n",
       "      <td>9</td>\n",
       "    </tr>\n",
       "    <tr>\n",
       "      <th>1977-01-31</th>\n",
       "      <td>38</td>\n",
       "      <td>67</td>\n",
       "      <td>9</td>\n",
       "      <td>5</td>\n",
       "      <td>34</td>\n",
       "      <td>NaN</td>\n",
       "      <td>22</td>\n",
       "      <td>NaN</td>\n",
       "      <td>8</td>\n",
       "      <td>NaN</td>\n",
       "      <td>...</td>\n",
       "      <td>NaN</td>\n",
       "      <td>NaN</td>\n",
       "      <td>6</td>\n",
       "      <td>2</td>\n",
       "      <td>NaN</td>\n",
       "      <td>NaN</td>\n",
       "      <td>NaN</td>\n",
       "      <td>NaN</td>\n",
       "      <td>172</td>\n",
       "      <td>11</td>\n",
       "    </tr>\n",
       "  </tbody>\n",
       "</table>\n",
       "<p>5 rows × 37 columns</p>\n",
       "</div>"
      ],
      "text/plain": [
       "            all_m  all_b  all_r  all_am  all_f  all_s  all_cl  all_cr  all_i  \\\n",
       "date                                                                           \n",
       "1976-09-01     36     66      8       4     34    NaN      22     NaN      8   \n",
       "1976-10-01     36     66      8       4     34    NaN      22     NaN      8   \n",
       "1976-11-01     36     66      8       4     34    NaN      22     NaN      8   \n",
       "1976-12-31     37     67      9       4     34    NaN      22     NaN      8   \n",
       "1977-01-31     38     67      9       5     34    NaN      22     NaN      8   \n",
       "\n",
       "            all_ar  ...  end_cr  thrt_cr  end_i  thrt_i  end_ar  thrt_ar  \\\n",
       "date                ...                                                    \n",
       "1976-09-01     NaN  ...     NaN      NaN      6       2     NaN      NaN   \n",
       "1976-10-01     NaN  ...     NaN      NaN      6       2     NaN      NaN   \n",
       "1976-11-01     NaN  ...     NaN      NaN      6       2     NaN      NaN   \n",
       "1976-12-31     NaN  ...     NaN      NaN      6       2     NaN      NaN   \n",
       "1977-01-31     NaN  ...     NaN      NaN      6       2     NaN      NaN   \n",
       "\n",
       "            end_p  thrt_p  end_all  thrt_all  \n",
       "date                                          \n",
       "1976-09-01    NaN     NaN      170         8  \n",
       "1976-10-01    NaN     NaN      170         8  \n",
       "1976-11-01    NaN     NaN      170         8  \n",
       "1976-12-31    NaN     NaN      172         9  \n",
       "1977-01-31    NaN     NaN      172        11  \n",
       "\n",
       "[5 rows x 37 columns]"
      ]
     },
     "execution_count": 36,
     "metadata": {},
     "output_type": "execute_result"
    }
   ],
   "source": [
    "# Previewing low subset\n",
    "all_m_low.head()"
   ]
  },
  {
   "cell_type": "code",
   "execution_count": 37,
   "metadata": {},
   "outputs": [],
   "source": [
    "# Creating PMF objects\n",
    "\n",
    "low_pmf = thinkstats2.Pmf(all_m_low.all_m, label='all_m (1976-1980)')\n",
    "\n",
    "rest_pmf = thinkstats2.Pmf(all_m_rest.all_m, label='all_m (1980+)')"
   ]
  },
  {
   "cell_type": "code",
   "execution_count": 38,
   "metadata": {},
   "outputs": [
    {
     "data": {
      "image/png": "[encoded data removed]",
      "text/plain": [
       "<Figure size 864x432 with 2 Axes>"
      ]
     },
     "metadata": {
      "needs_background": "light"
     },
     "output_type": "display_data"
    }
   ],
   "source": [
    "# Plotting PMFs\n",
    "\n",
    "width=0.8\n",
    "axis = [35, 85, 0, 0.5]\n",
    "thinkplot.PrePlot(2, cols=2)\n",
    "thinkplot.Hist(low_pmf, align='right', width=width)\n",
    "thinkplot.Hist(rest_pmf, align='left', width=width)\n",
    "thinkplot.Config(xlabel='All Mammals Endangered or Threatened', ylabel='PMF', axis=axis)\n",
    "\n",
    "thinkplot.PrePlot(2)\n",
    "thinkplot.SubPlot(2)\n",
    "thinkplot.Pmfs([low_pmf, rest_pmf])\n",
    "thinkplot.Config(xlabel='All Mammals Endangered or Threatened', axis=axis)"
   ]
  },
  {
   "cell_type": "markdown",
   "metadata": {},
   "source": [
    "This PMF compares all mammals threatened or endangered during the early years (1976 – 1980) to other years as both a bar graph and a step function.\n",
    "\n",
    "There is a much higher probability of seeing values below 40 during the early years (1976 - 1980) versus all other years."
   ]
  },
  {
   "cell_type": "markdown",
   "metadata": {},
   "source": [
    "### Cumulative Distribution Function (CDF)"
   ]
  },
  {
   "cell_type": "code",
   "execution_count": 39,
   "metadata": {},
   "outputs": [
    {
     "data": {
      "image/png": "[encoded data removed]",
      "text/plain": [
       "<Figure size 432x288 with 1 Axes>"
      ]
     },
     "metadata": {
      "needs_background": "light"
     },
     "output_type": "display_data"
    }
   ],
   "source": [
    "# Plotting CDF of all reptiles variable\n",
    "all_r_cdf = thinkstats2.Cdf(endangered_df.all_r, label='all_r')\n",
    "thinkplot.Cdf(all_r_cdf)\n",
    "thinkplot.Config(xlabel='All Reptiles Endangered or Threatened', ylabel='CDF', loc='upper left')"
   ]
  },
  {
   "cell_type": "markdown",
   "metadata": {},
   "source": [
    "Over the years, less than 10% of the assessments were below 10 reptiles endangered or threatened, the most common number was 26, and the highest values, in the mid 30s, are higher than or equal to about 80% of the assessments. \n",
    "\n",
    "This graph can tell us how a specific reading for reptiles falls within the range of readings for all reptiles."
   ]
  },
  {
   "cell_type": "markdown",
   "metadata": {},
   "source": [
    "### Analytical Distribution"
   ]
  },
  {
   "cell_type": "markdown",
   "metadata": {},
   "source": [
    "#### Normal Distribution"
   ]
  },
  {
   "cell_type": "code",
   "execution_count": 40,
   "metadata": {},
   "outputs": [
    {
     "name": "stdout",
     "output_type": "stream",
     "text": [
      "Mean: 79.59130434782608\n",
      "Var: 87.77209829867674\n",
      "Sigma: 9.368676443269708\n"
     ]
    },
    {
     "data": {
      "image/png": "[encoded data removed]",
      "text/plain": [
       "<Figure size 432x288 with 1 Axes>"
      ]
     },
     "metadata": {
      "needs_background": "light"
     },
     "output_type": "display_data"
    }
   ],
   "source": [
    "birds = endangered_df.all_b\n",
    "\n",
    "# Estimating parameters\n",
    "mu, var = thinkstats2.MeanVar(birds)\n",
    "print('Mean:', mu)\n",
    "print('Var:', var)\n",
    "    \n",
    "# Plotting the model\n",
    "sigma = np.sqrt(var)\n",
    "print('Sigma:', sigma)\n",
    "xs, ps = thinkstats2.RenderNormalCdf(mu, sigma, low=66, high=93)\n",
    "\n",
    "thinkplot.Plot(xs, ps, label='model', color='0.6')\n",
    "\n",
    "# Plotting the data\n",
    "cdf = thinkstats2.Cdf(birds, label='birds')\n",
    "\n",
    "thinkplot.PrePlot(1)\n",
    "thinkplot.Cdf(cdf) \n",
    "thinkplot.Config(title='Birds Endangered or Threatened',\n",
    "                 xlabel='Birds Endangered or Threatened',\n",
    "                 ylabel='CDF')"
   ]
  },
  {
   "cell_type": "markdown",
   "metadata": {},
   "source": [
    "The curves in the all birds data deviate from the normal curve of the expected model. \n",
    "The majority of the lower numbers are between the 10th and 30th percentile rank while the most common higher value of 90 is in the 70th and 90th percentile rank."
   ]
  },
  {
   "cell_type": "markdown",
   "metadata": {},
   "source": [
    "#### Normal Probability Plot"
   ]
  },
  {
   "cell_type": "code",
   "execution_count": 42,
   "metadata": {},
   "outputs": [
    {
     "data": {
      "image/png": "[encoded data removed]",
      "text/plain": [
       "<Figure size 432x288 with 1 Axes>"
      ]
     },
     "metadata": {
      "needs_background": "light"
     },
     "output_type": "display_data"
    }
   ],
   "source": [
    "mean, var = thinkstats2.MeanVar(birds)\n",
    "std = np.sqrt(var)\n",
    "\n",
    "xs = [-3, 3]\n",
    "fxs, fys = thinkstats2.FitLine(xs, mean, std)\n",
    "thinkplot.Plot(fxs, fys, linewidth=4, color='0.8')\n",
    "\n",
    "xs, ys = thinkstats2.NormalProbability(birds)\n",
    "thinkplot.Plot(xs, ys, label='birds')\n",
    "\n",
    "thinkplot.Config(title='Normal Probability Plot',\n",
    "                 xlabel='Standard deviations from mean',\n",
    "                 ylabel='Birds Endangered or Threatened')"
   ]
  },
  {
   "cell_type": "markdown",
   "metadata": {},
   "source": [
    "The Normal Probability Plot confirms a lack of normality, with the tails deviating substantially from the model, and overall not a very straight line."
   ]
  },
  {
   "cell_type": "markdown",
   "metadata": {},
   "source": [
    "### Scatterplots"
   ]
  },
  {
   "cell_type": "markdown",
   "metadata": {},
   "source": [
    "#### All Species Endangered or Threatened over the years"
   ]
  },
  {
   "cell_type": "code",
   "execution_count": 43,
   "metadata": {},
   "outputs": [
    {
     "data": {
      "image/png": "[encoded data removed]",
      "text/plain": [
       "<Figure size 432x288 with 1 Axes>"
      ]
     },
     "metadata": {
      "needs_background": "light"
     },
     "output_type": "display_data"
    },
    {
     "data": {
      "text/plain": [
       "<Figure size 576x432 with 0 Axes>"
      ]
     },
     "metadata": {},
     "output_type": "display_data"
    }
   ],
   "source": [
    "thinkplot.Scatter(endangered_df.index, endangered_df.all_all, alpha=0.5)\n",
    "thinkplot.Config(xlabel='Date',\n",
    "                 ylabel='All Species Endangered or Threatened',\n",
    "                 axis=[endangered_df.index[0], endangered_df.index[-1], 0, 1400],\n",
    "                 legend=False)\n",
    "\n",
    "thinkplot.show()"
   ]
  },
  {
   "cell_type": "markdown",
   "metadata": {},
   "source": [
    "#### Amphibians vs. Reptiles Endangered or Threatened"
   ]
  },
  {
   "cell_type": "code",
   "execution_count": 44,
   "metadata": {},
   "outputs": [
    {
     "data": {
      "image/png": "[encoded data removed]",
      "text/plain": [
       "<Figure size 432x288 with 1 Axes>"
      ]
     },
     "metadata": {
      "needs_background": "light"
     },
     "output_type": "display_data"
    },
    {
     "data": {
      "text/plain": [
       "<Figure size 576x432 with 0 Axes>"
      ]
     },
     "metadata": {},
     "output_type": "display_data"
    }
   ],
   "source": [
    "thinkplot.Scatter(endangered_df.all_am, endangered_df.all_r, alpha=0.5)\n",
    "thinkplot.Config(xlabel='Amphibians',\n",
    "                 ylabel='Reptiles',\n",
    "                 axis=[0, 25, 5, 40],\n",
    "                 legend=False)\n",
    "\n",
    "thinkplot.show()"
   ]
  },
  {
   "cell_type": "markdown",
   "metadata": {},
   "source": [
    "The scatter plots suggest strong positive correlation between the status of amphibians and reptiles, and also between dates and all species."
   ]
  },
  {
   "cell_type": "markdown",
   "metadata": {},
   "source": [
    "#### Covariance"
   ]
  },
  {
   "cell_type": "code",
   "execution_count": 48,
   "metadata": {},
   "outputs": [],
   "source": [
    "def Cov(xs, ys, meanx=None, meany=None):\n",
    "    xs = np.asarray(xs)\n",
    "    ys = np.asarray(ys)\n",
    "\n",
    "    if meanx is None:\n",
    "        meanx = np.mean(xs)\n",
    "    if meany is None:\n",
    "        meany = np.mean(ys)\n",
    "\n",
    "    cov = np.dot(xs-meanx, ys-meany) / len(xs)\n",
    "    return cov"
   ]
  },
  {
   "cell_type": "code",
   "execution_count": 49,
   "metadata": {},
   "outputs": [
    {
     "data": {
      "text/plain": [
       "34182461.20378072"
      ]
     },
     "execution_count": 49,
     "metadata": {},
     "output_type": "execute_result"
    }
   ],
   "source": [
    "# Creating new column for date index values\n",
    "endangered_df['date_values'] = endangered_df.index.values\n",
    "\n",
    "dates = endangered_df.date_values\n",
    "\n",
    "# Converting date column to integer\n",
    "dates_int = dates.dt.strftime(\"%Y%m%d\").astype(int)\n",
    "\n",
    "# Dates vs. All Species - Covariance\n",
    "Cov(dates_int, endangered_df.all_all)"
   ]
  },
  {
   "cell_type": "code",
   "execution_count": 50,
   "metadata": {},
   "outputs": [
    {
     "data": {
      "text/plain": [
       "28.955916824196603"
      ]
     },
     "execution_count": 50,
     "metadata": {},
     "output_type": "execute_result"
    }
   ],
   "source": [
    "# Amphibians vs. Reptiles - Covariance\n",
    "Cov(endangered_df.all_am, endangered_df.all_r)"
   ]
  },
  {
   "cell_type": "markdown",
   "metadata": {},
   "source": [
    "The results indicate a positive relationship in both cases, but the units are not standardized, so correlation would be a better option."
   ]
  },
  {
   "cell_type": "markdown",
   "metadata": {},
   "source": [
    "#### Pearson's Correlation"
   ]
  },
  {
   "cell_type": "code",
   "execution_count": 51,
   "metadata": {},
   "outputs": [],
   "source": [
    "def Corr(xs, ys):\n",
    "    xs = np.asarray(xs)\n",
    "    ys = np.asarray(ys)\n",
    "\n",
    "    meanx, varx = thinkstats2.MeanVar(xs)\n",
    "    meany, vary = thinkstats2.MeanVar(ys)\n",
    "\n",
    "    corr = Cov(xs, ys, meanx, meany) / np.sqrt(varx * vary)\n",
    "    return corr"
   ]
  },
  {
   "cell_type": "code",
   "execution_count": 52,
   "metadata": {},
   "outputs": [
    {
     "data": {
      "text/plain": [
       "0.9769299662487161"
      ]
     },
     "execution_count": 52,
     "metadata": {},
     "output_type": "execute_result"
    }
   ],
   "source": [
    "# Dates vs. All Species\n",
    "Corr(dates_int, endangered_df.all_all)"
   ]
  },
  {
   "cell_type": "code",
   "execution_count": 53,
   "metadata": {},
   "outputs": [
    {
     "data": {
      "text/plain": [
       "0.762863563861494"
      ]
     },
     "execution_count": 53,
     "metadata": {},
     "output_type": "execute_result"
    }
   ],
   "source": [
    "# Amphibians vs. Reptiles\n",
    "Corr(endangered_df.all_am, endangered_df.all_r)"
   ]
  },
  {
   "cell_type": "markdown",
   "metadata": {},
   "source": [
    "It appears that there is a strong positive correlation between dates and all species' status, and the status of amphibians and reptiles, but since Pearson's correlation might underestimate the strength of non-linear relationships, I'll try Spearman's correlation as well."
   ]
  },
  {
   "cell_type": "markdown",
   "metadata": {},
   "source": [
    "#### Spearman's Correlation"
   ]
  },
  {
   "cell_type": "code",
   "execution_count": 54,
   "metadata": {},
   "outputs": [],
   "source": [
    "def SpearmanCorr(xs, ys):\n",
    "    xranks = pd.Series(xs).rank()\n",
    "    yranks = pd.Series(ys).rank()\n",
    "    return Corr(xranks, yranks)"
   ]
  },
  {
   "cell_type": "code",
   "execution_count": 55,
   "metadata": {},
   "outputs": [
    {
     "data": {
      "text/plain": [
       "0.9616245457853707"
      ]
     },
     "execution_count": 55,
     "metadata": {},
     "output_type": "execute_result"
    }
   ],
   "source": [
    "# Amphibians vs. Reptiles\n",
    "SpearmanCorr(endangered_df.all_am, endangered_df.all_r)"
   ]
  },
  {
   "cell_type": "code",
   "execution_count": 56,
   "metadata": {},
   "outputs": [
    {
     "data": {
      "text/plain": [
       "0.9994848649303559"
      ]
     },
     "execution_count": 56,
     "metadata": {},
     "output_type": "execute_result"
    }
   ],
   "source": [
    "# Dates vs. All Species\n",
    "SpearmanCorr(dates_int, endangered_df.all_all)"
   ]
  },
  {
   "cell_type": "markdown",
   "metadata": {},
   "source": [
    "Spearman's correlation calculations confirm the strong positive relationship in both cases. As an alternative, I'll also try converting the variables to make them closer to linear."
   ]
  },
  {
   "cell_type": "markdown",
   "metadata": {},
   "source": [
    "#### Adjusting for Non-Linear Relationships"
   ]
  },
  {
   "cell_type": "code",
   "execution_count": 57,
   "metadata": {},
   "outputs": [
    {
     "data": {
      "text/plain": [
       "0.8013109722949451"
      ]
     },
     "execution_count": 57,
     "metadata": {},
     "output_type": "execute_result"
    }
   ],
   "source": [
    "# Amphibians vs. Reptiles - Converting both variables\n",
    "Corr(np.log(endangered_df.all_am), np.log(endangered_df.all_r))"
   ]
  },
  {
   "cell_type": "code",
   "execution_count": 58,
   "metadata": {},
   "outputs": [
    {
     "data": {
      "text/plain": [
       "0.6664016320960809"
      ]
     },
     "execution_count": 58,
     "metadata": {},
     "output_type": "execute_result"
    }
   ],
   "source": [
    "# Amphibians vs. Reptiles - Converting one variable\n",
    "Corr(endangered_df.all_am, np.log(endangered_df.all_r))"
   ]
  },
  {
   "cell_type": "code",
   "execution_count": 59,
   "metadata": {},
   "outputs": [
    {
     "data": {
      "text/plain": [
       "0.9754341294652453"
      ]
     },
     "execution_count": 59,
     "metadata": {},
     "output_type": "execute_result"
    }
   ],
   "source": [
    "# Dates vs. All Species - Converting both variables\n",
    "Corr(np.log(dates_int), np.log(endangered_df.all_all))"
   ]
  },
  {
   "cell_type": "markdown",
   "metadata": {},
   "source": [
    "Even when converting both or one of the variables, there is still a strong correlation in all scenarios."
   ]
  },
  {
   "cell_type": "markdown",
   "metadata": {},
   "source": [
    "### Hypothesis Testing"
   ]
  },
  {
   "cell_type": "markdown",
   "metadata": {},
   "source": [
    "#### Testing Correlation between Birds and Mammals"
   ]
  },
  {
   "cell_type": "markdown",
   "metadata": {},
   "source": [
    "My null hypothesis is that there is no correlation between the endangered or threatened status of birds and mammals."
   ]
  },
  {
   "cell_type": "code",
   "execution_count": 60,
   "metadata": {},
   "outputs": [],
   "source": [
    "class CorrelationPermute(thinkstats2.HypothesisTest):\n",
    "    \"\"\"Tests correlations by permutation.\"\"\"\n",
    "\n",
    "    def TestStatistic(self, data):\n",
    "        \"\"\"Computes the test statistic.\n",
    "\n",
    "        data: tuple of xs and ys\n",
    "        \"\"\"\n",
    "        xs, ys = data\n",
    "        test_stat = abs(thinkstats2.Corr(xs, ys))\n",
    "        return test_stat\n",
    "\n",
    "    def RunModel(self):\n",
    "        \"\"\"Run the model of the null hypothesis.\n",
    "\n",
    "        returns: simulated data\n",
    "        \"\"\"\n",
    "        xs, ys = self.data\n",
    "        xs = np.random.permutation(xs)\n",
    "        return xs, ys"
   ]
  },
  {
   "cell_type": "code",
   "execution_count": 61,
   "metadata": {},
   "outputs": [
    {
     "name": "stdout",
     "output_type": "stream",
     "text": [
      "pvalue:  0.0\n"
     ]
    }
   ],
   "source": [
    "# Creating a subset of dataset for birds and mammals variables\n",
    "cleaned = endangered_df.dropna(subset=['all_b', 'all_m'])\n",
    "corr_data = cleaned.all_b, cleaned.all_m\n",
    "\n",
    "# Running correlation test on data subset\n",
    "corr_test = CorrelationPermute(corr_data)\n",
    "pvalue = corr_test.PValue()\n",
    "\n",
    "print ('pvalue: ', pvalue)"
   ]
  },
  {
   "cell_type": "markdown",
   "metadata": {},
   "source": [
    "After 1000 iterations per HypothesisTest, the pvalue is 0, which tells us that there wasn't a correlation more significant than the null hypothesis. The pvalue proves that there is very little probability that we'd find a strong correlation within any given sample, so we can only conclude that the correlation between the endangered status of birds and mammals is probably not 0.\n",
    "\n",
    "In comparing the actual correlation to the highest value from the iterations, we can get an idea of how unexpected the observed value is under the null hypothesis."
   ]
  },
  {
   "cell_type": "code",
   "execution_count": 62,
   "metadata": {},
   "outputs": [
    {
     "name": "stdout",
     "output_type": "stream",
     "text": [
      "Correlation (actual): 0.9494558371356719\n",
      "Correlation (highest value from simulations): 0.18330406949619452\n"
     ]
    }
   ],
   "source": [
    "print ('Correlation (actual):', corr_test.actual)\n",
    "print ('Correlation (highest value from simulations):', corr_test.MaxTestStat())"
   ]
  },
  {
   "cell_type": "markdown",
   "metadata": {},
   "source": [
    "### Regression Analysis"
   ]
  },
  {
   "cell_type": "code",
   "execution_count": 63,
   "metadata": {},
   "outputs": [],
   "source": [
    "import statsmodels.formula.api as smf"
   ]
  },
  {
   "cell_type": "code",
   "execution_count": 64,
   "metadata": {},
   "outputs": [
    {
     "data": {
      "text/html": [
       "<table class=\"simpletable\">\n",
       "<caption>OLS Regression Results</caption>\n",
       "<tr>\n",
       "  <th>Dep. Variable:</th>          <td>all_m</td>      <th>  R-squared:         </th> <td>   0.902</td> \n",
       "</tr>\n",
       "<tr>\n",
       "  <th>Model:</th>                   <td>OLS</td>       <th>  Adj. R-squared:    </th> <td>   0.901</td> \n",
       "</tr>\n",
       "<tr>\n",
       "  <th>Method:</th>             <td>Least Squares</td>  <th>  F-statistic:       </th> <td>   2091.</td> \n",
       "</tr>\n",
       "<tr>\n",
       "  <th>Date:</th>             <td>Sat, 16 Nov 2019</td> <th>  Prob (F-statistic):</th> <td>7.85e-117</td>\n",
       "</tr>\n",
       "<tr>\n",
       "  <th>Time:</th>                 <td>11:25:13</td>     <th>  Log-Likelihood:    </th> <td> -688.84</td> \n",
       "</tr>\n",
       "<tr>\n",
       "  <th>No. Observations:</th>      <td>   230</td>      <th>  AIC:               </th> <td>   1382.</td> \n",
       "</tr>\n",
       "<tr>\n",
       "  <th>Df Residuals:</th>          <td>   228</td>      <th>  BIC:               </th> <td>   1389.</td> \n",
       "</tr>\n",
       "<tr>\n",
       "  <th>Df Model:</th>              <td>     1</td>      <th>                     </th>     <td> </td>    \n",
       "</tr>\n",
       "<tr>\n",
       "  <th>Covariance Type:</th>      <td>nonrobust</td>    <th>                     </th>     <td> </td>    \n",
       "</tr>\n",
       "</table>\n",
       "<table class=\"simpletable\">\n",
       "<tr>\n",
       "      <td></td>         <th>coef</th>     <th>std err</th>      <th>t</th>      <th>P>|t|</th>  <th>[0.025</th>    <th>0.975]</th>  \n",
       "</tr>\n",
       "<tr>\n",
       "  <th>Intercept</th> <td>   29.6473</td> <td>    0.583</td> <td>   50.820</td> <td> 0.000</td> <td>   28.498</td> <td>   30.797</td>\n",
       "</tr>\n",
       "<tr>\n",
       "  <th>all_all</th>   <td>    0.0376</td> <td>    0.001</td> <td>   45.733</td> <td> 0.000</td> <td>    0.036</td> <td>    0.039</td>\n",
       "</tr>\n",
       "</table>\n",
       "<table class=\"simpletable\">\n",
       "<tr>\n",
       "  <th>Omnibus:</th>       <td>41.088</td> <th>  Durbin-Watson:     </th> <td>   0.028</td>\n",
       "</tr>\n",
       "<tr>\n",
       "  <th>Prob(Omnibus):</th> <td> 0.000</td> <th>  Jarque-Bera (JB):  </th> <td>  16.338</td>\n",
       "</tr>\n",
       "<tr>\n",
       "  <th>Skew:</th>          <td> 0.442</td> <th>  Prob(JB):          </th> <td>0.000283</td>\n",
       "</tr>\n",
       "<tr>\n",
       "  <th>Kurtosis:</th>      <td> 2.039</td> <th>  Cond. No.          </th> <td>1.29e+03</td>\n",
       "</tr>\n",
       "</table><br/><br/>Warnings:<br/>[1] Standard Errors assume that the covariance matrix of the errors is correctly specified.<br/>[2] The condition number is large, 1.29e+03. This might indicate that there are<br/>strong multicollinearity or other numerical problems."
      ],
      "text/plain": [
       "<class 'statsmodels.iolib.summary.Summary'>\n",
       "\"\"\"\n",
       "                            OLS Regression Results                            \n",
       "==============================================================================\n",
       "Dep. Variable:                  all_m   R-squared:                       0.902\n",
       "Model:                            OLS   Adj. R-squared:                  0.901\n",
       "Method:                 Least Squares   F-statistic:                     2091.\n",
       "Date:                Sat, 16 Nov 2019   Prob (F-statistic):          7.85e-117\n",
       "Time:                        11:25:13   Log-Likelihood:                -688.84\n",
       "No. Observations:                 230   AIC:                             1382.\n",
       "Df Residuals:                     228   BIC:                             1389.\n",
       "Df Model:                           1                                         \n",
       "Covariance Type:            nonrobust                                         \n",
       "==============================================================================\n",
       "                 coef    std err          t      P>|t|      [0.025      0.975]\n",
       "------------------------------------------------------------------------------\n",
       "Intercept     29.6473      0.583     50.820      0.000      28.498      30.797\n",
       "all_all        0.0376      0.001     45.733      0.000       0.036       0.039\n",
       "==============================================================================\n",
       "Omnibus:                       41.088   Durbin-Watson:                   0.028\n",
       "Prob(Omnibus):                  0.000   Jarque-Bera (JB):               16.338\n",
       "Skew:                           0.442   Prob(JB):                     0.000283\n",
       "Kurtosis:                       2.039   Cond. No.                     1.29e+03\n",
       "==============================================================================\n",
       "\n",
       "Warnings:\n",
       "[1] Standard Errors assume that the covariance matrix of the errors is correctly specified.\n",
       "[2] The condition number is large, 1.29e+03. This might indicate that there are\n",
       "strong multicollinearity or other numerical problems.\n",
       "\"\"\""
      ]
     },
     "execution_count": 64,
     "metadata": {},
     "output_type": "execute_result"
    }
   ],
   "source": [
    "# Simple Linear Regression of all mammals as a function of all species\n",
    "\n",
    "formula = 'all_m ~ all_all'\n",
    "model = smf.ols(formula, data=endangered_df)\n",
    "results = model.fit()\n",
    "results.summary()"
   ]
  },
  {
   "cell_type": "code",
   "execution_count": 65,
   "metadata": {},
   "outputs": [
    {
     "name": "stdout",
     "output_type": "stream",
     "text": [
      "Intercept: 29.647347603485965\n",
      "Slope: 0.03764760753962294\n"
     ]
    }
   ],
   "source": [
    "# Extracting parameters\n",
    "inter = results.params['Intercept']\n",
    "slope = results.params['all_all']\n",
    "print('Intercept:', inter)\n",
    "print('Slope:', slope)"
   ]
  },
  {
   "cell_type": "code",
   "execution_count": 66,
   "metadata": {},
   "outputs": [
    {
     "name": "stdout",
     "output_type": "stream",
     "text": [
      "p-value of slope estimate: 7.849550924033314e-117\n"
     ]
    }
   ],
   "source": [
    "# Extracting p-value of slope estimate\n",
    "slope_pvalue = results.pvalues['all_all']\n",
    "print('p-value of slope estimate:', slope_pvalue)"
   ]
  },
  {
   "cell_type": "code",
   "execution_count": 67,
   "metadata": {},
   "outputs": [
    {
     "name": "stdout",
     "output_type": "stream",
     "text": [
      "R^2: 0.9017020163033321\n"
     ]
    }
   ],
   "source": [
    "# Extracting coefficent of determination\n",
    "print('R^2:', results.rsquared)"
   ]
  },
  {
   "cell_type": "markdown",
   "metadata": {},
   "source": [
    "Overall, with high R^2 values, the regression results support strong correlation and predictive power, with the status of all species significantly accounting for variation in the status of all mammals. However, there is the problem of multicollinearity, because these variables are highly correlated, which takes away from the statistical significance of the all species variable."
   ]
  }
 ],
 "metadata": {
  "kernelspec": {
   "display_name": "Python 3",
   "language": "python",
   "name": "python3"
  },
  "language_info": {
   "codemirror_mode": {
    "name": "ipython",
    "version": 3
   },
   "file_extension": ".py",
   "mimetype": "text/x-python",
   "name": "python",
   "nbconvert_exporter": "python",
   "pygments_lexer": "ipython3",
   "version": "3.7.3"
  }
 },
 "nbformat": 4,
 "nbformat_minor": 2
}
